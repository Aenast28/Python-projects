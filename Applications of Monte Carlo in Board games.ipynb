{
 "cells": [
  {
   "cell_type": "markdown",
   "id": "99f6487d",
   "metadata": {},
   "source": [
    "# Practical applications of Monte Carlo in board games"
   ]
  },
  {
   "cell_type": "markdown",
   "id": "a86691dc",
   "metadata": {},
   "source": [
    "This code simulates a fight between two armies situated on a tabletop field. There are two fictional armies \"The Orcs\" and \"The Ghosts\". Each army consists of only one type of unit, however \"Orcs\" and \"Ghosts\" are worth different amount of points. The goal of the game is to destroy the opposing army, that means to lower their unit point score to zero. The armies flip a coin and whoever wins, attacks first. This repeats until one of the armies is exhausted. \n",
    "The problem that this simulation is trying to solve is as following. There is much more units in the \"Orc\" army, however this army is much weaker (costs less points) that the \"Ghost\" army. To tip the scales, the game allows \"Orcs\" to use ability \"Stab\". This increases their chance to vanquish \"Ghosts\", but also increases their chance to be destroyed. This simulation is trying to prove, whether it is optimal for \"Orc\" player to always \"Stab\" or not. The main goal is maximizing their chance to win in X amount of games.\n"
   ]
  },
  {
   "cell_type": "code",
   "execution_count": 1,
   "id": "beb2d092",
   "metadata": {},
   "outputs": [
    {
     "data": {
      "image/png": "[encoded data removed]",
      "text/plain": [
       "<Figure size 432x288 with 1 Axes>"
      ]
     },
     "metadata": {
      "needs_background": "light"
     },
     "output_type": "display_data"
    },
    {
     "name": "stdout",
     "output_type": "stream",
     "text": [
      "Kill rate without stab: 0.5\n",
      "Kill rate with stab: 0.75\n",
      "Death rate without stab: 0.08333333333333333\n",
      "Death rate with stab: 0.1388888888888889\n",
      "Ghost to Orc ratio: 1.6666666666666667\n",
      "Orcs won without stab percentage: 12.659999999999998\n",
      "Ghosts won without stab percentage: 87.33999999999999\n",
      "Ghosts won with stab percentage: 77.25999999999999\n",
      "Orcs won with stab percentage: 22.74\n"
     ]
    }
   ],
   "source": [
    "import numpy as np\n",
    "import matplotlib.pyplot as plt\n",
    "import random\n",
    "\n",
    "# Set the seed for reproducibility\n",
    "SEED = 42\n",
    "Number_of_iterations = 10000\n",
    "Number_of_iterations2 = 10000\n",
    "\n",
    "# Main information\n",
    "random.seed(SEED)\n",
    "ghosts = 90\n",
    "stab_success = 1/2\n",
    "kill_without_stab = 1/2\n",
    "kill_with_stab = 1/2 + 1/2*1/2  # Adding a flipped coin\n",
    "risk_with_stab = (1/6*2/6) + 1/6*1/2\n",
    "risk_without_stab = 1/6*1/2\n",
    "ghost_points = 15\n",
    "ghost_orc_ratio = 15/9\n",
    "orcs = 150\n",
    "enemies = 9\n",
    "random_events = []\n",
    "\n",
    "# Create lists to store values for each simulation\n",
    "value_orcs = []\n",
    "value_ghosts = []\n",
    "value_orcs_without_stab = []\n",
    "value_ghosts_without_stab = []\n",
    "\n",
    "# With stab\n",
    "for i in range(Number_of_iterations):\n",
    "    # Initialize orc and ghost values to their initial values\n",
    "    orcs = 150\n",
    "    ghosts = 90\n",
    "    # Simulate until either orcs or ghosts are exhausted\n",
    "    while (orcs and ghosts) <= 150 and (orcs and ghosts) > 0:\n",
    "        random_event = random.randint(1, 2)\n",
    "        if random_event == 1:  # ghosts win\n",
    "            orcs = orcs - (ghosts) * kill_with_stab\n",
    "        else:  # orcs win\n",
    "            ghosts = ghosts - (orcs) * risk_with_stab\n",
    "        if (orcs or ghosts) <= 0:\n",
    "            break\n",
    "    # Save orc and ghost values to lists for further processing\n",
    "    value_orcs.append(orcs * 9)\n",
    "    value_ghosts.append(ghosts * 15)\n",
    "\n",
    "# Without stab\n",
    "for i in range(Number_of_iterations2):\n",
    "    # Initialize orc and ghost values to their initial values\n",
    "    orcs_without_stab = 150\n",
    "    ghosts_without_stab = 90\n",
    "    # Simulate until either orcs or ghosts are exhausted\n",
    "    while (orcs_without_stab and ghosts_without_stab) <= 150 and (orcs_without_stab and ghosts_without_stab) > 0:\n",
    "        random_event = random.randint(1, 2)\n",
    "        if random_event == 1:  # ghosts win\n",
    "            orcs_without_stab = orcs_without_stab - (ghosts_without_stab) * kill_without_stab\n",
    "        else:  # orcs win\n",
    "            ghosts_without_stab = ghosts_without_stab - (orcs_without_stab) * risk_without_stab\n",
    "        if (orcs_without_stab or ghosts_without_stab) <= 0:\n",
    "            break\n",
    "    # Save orc and ghost values to lists for further processing\n",
    "    value_orcs_without_stab.append(orcs_without_stab * 9)\n",
    "    value_ghosts_without_stab.append(ghosts_without_stab * 15)\n",
    "\n",
    "# Plot histograms for the simulations\n",
    "plt.hist(value_orcs_without_stab, label='Orcs Without Stab')\n",
    "plt.hist(value_ghosts_without_stab, label='Ghosts Without Stab')\n",
    "plt.hist(value_orcs, label='Orcs With Stab')\n",
    "plt.hist(value_ghosts, label='Ghosts With Stab')\n",
    "plt.legend()\n",
    "plt.show()\n",
    "\n",
    "# Print kill rates and death rates\n",
    "print(\"Kill rate without stab:\", kill_without_stab)\n",
    "print(\"Kill rate with stab:\", kill_with_stab)\n",
    "print(\"Death rate without stab:\", risk_without_stab)\n",
    "print(\"Death rate with stab:\", risk_with_stab)\n",
    "print(\"Ghost to Orc ratio:\", ghost_orc_ratio)\n",
    "\n",
    "# Calculate the percentage of wins for orcs and ghosts\n",
    "orc_wins_percentage = sum(1 for value in value_orcs if value > 0) / Number_of_iterations * 100\n",
    "ghost_wins_percentage = sum(1 for value in value_ghosts if value > 0) / Number_of_iterations * 100\n",
    "\n",
    "# Calculate the percentage of wins for orcs and ghosts without stab\n",
    "orc_wins_percentage_without_stab = sum(1 for value in value_orcs_without_stab if value > 0) / Number_of_iterations2 * 100\n",
    "ghost_wins_percentage_without_stab = sum(1 for value in value_ghosts_without_stab if value > 0) / Number_of_iterations2 * 100\n",
    "\n",
    "# Print the results\n",
    "print(\"Orcs won without stab percentage:\", orc_wins_percentage_without_stab)\n",
    "print(\"Ghosts won without stab percentage:\", ghost_wins_percentage_without_stab)\n",
    "print(\"Ghosts won with stab percentage:\", ghost_wins_percentage)\n",
    "print(\"Orcs won with stab percentage:\", orc_wins_percentage)\n"
   ]
  }
 ],
 "metadata": {
  "kernelspec": {
   "display_name": "Python 3 (ipykernel)",
   "language": "python",
   "name": "python3"
  },
  "language_info": {
   "codemirror_mode": {
    "name": "ipython",
    "version": 3
   },
   "file_extension": ".py",
   "mimetype": "text/x-python",
   "name": "python",
   "nbconvert_exporter": "python",
   "pygments_lexer": "ipython3",
   "version": "3.9.12"
  }
 },
 "nbformat": 4,
 "nbformat_minor": 5
}
